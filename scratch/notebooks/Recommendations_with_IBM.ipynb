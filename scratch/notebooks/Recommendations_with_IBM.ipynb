{
 "cells": [
  {
   "cell_type": "markdown",
   "metadata": {},
   "source": [
    "# Recommendations with IBM\n",
    "\n",
    "## Table of Contents\n",
    "\n",
    "I. [Exploratory Data Analysis](#Exploratory-Data-Analysis)<br>\n",
    "II. [Rank Based Recommendations](#Rank)<br>\n",
    "III. [User-User Based Collaborative Filtering](#User-User)<br>\n",
    "IV. [Matrix Factorization](#Matrix-Fact)<br>\n"
   ]
  },
  {
   "cell_type": "code",
   "execution_count": 195,
   "metadata": {
    "tags": []
   },
   "outputs": [],
   "source": [
    "import pandas as pd\n",
    "import numpy as np\n",
    "import matplotlib.pyplot as plt\n",
    "%matplotlib inline"
   ]
  },
  {
   "cell_type": "markdown",
   "metadata": {},
   "source": [
    "Read data files and remove irrelevant columns."
   ]
  },
  {
   "cell_type": "code",
   "execution_count": 196,
   "metadata": {},
   "outputs": [],
   "source": [
    "df = pd.read_csv('../data/user-item-interactions.csv')\n",
    "df_content = pd.read_csv('../data/articles_community.csv')\n",
    "\n",
    "del df['Unnamed: 0']\n",
    "del df_content['Unnamed: 0']"
   ]
  },
  {
   "cell_type": "code",
   "execution_count": 197,
   "metadata": {},
   "outputs": [
    {
     "data": {
      "text/html": [
       "<div>\n",
       "<style scoped>\n",
       "    .dataframe tbody tr th:only-of-type {\n",
       "        vertical-align: middle;\n",
       "    }\n",
       "\n",
       "    .dataframe tbody tr th {\n",
       "        vertical-align: top;\n",
       "    }\n",
       "\n",
       "    .dataframe thead th {\n",
       "        text-align: right;\n",
       "    }\n",
       "</style>\n",
       "<table border=\"1\" class=\"dataframe\">\n",
       "  <thead>\n",
       "    <tr style=\"text-align: right;\">\n",
       "      <th></th>\n",
       "      <th>article_id</th>\n",
       "      <th>title</th>\n",
       "      <th>email</th>\n",
       "    </tr>\n",
       "  </thead>\n",
       "  <tbody>\n",
       "    <tr>\n",
       "      <th>0</th>\n",
       "      <td>1430.0</td>\n",
       "      <td>using pixiedust for fast, flexible, and easier...</td>\n",
       "      <td>ef5f11f77ba020cd36e1105a00ab868bbdbf7fe7</td>\n",
       "    </tr>\n",
       "    <tr>\n",
       "      <th>1</th>\n",
       "      <td>1314.0</td>\n",
       "      <td>healthcare python streaming application demo</td>\n",
       "      <td>083cbdfa93c8444beaa4c5f5e0f5f9198e4f9e0b</td>\n",
       "    </tr>\n",
       "    <tr>\n",
       "      <th>2</th>\n",
       "      <td>1429.0</td>\n",
       "      <td>use deep learning for image classification</td>\n",
       "      <td>b96a4f2e92d8572034b1e9b28f9ac673765cd074</td>\n",
       "    </tr>\n",
       "    <tr>\n",
       "      <th>3</th>\n",
       "      <td>1338.0</td>\n",
       "      <td>ml optimization using cognitive assistant</td>\n",
       "      <td>06485706b34a5c9bf2a0ecdac41daf7e7654ceb7</td>\n",
       "    </tr>\n",
       "    <tr>\n",
       "      <th>4</th>\n",
       "      <td>1276.0</td>\n",
       "      <td>deploy your python model as a restful api</td>\n",
       "      <td>f01220c46fc92c6e6b161b1849de11faacd7ccb2</td>\n",
       "    </tr>\n",
       "  </tbody>\n",
       "</table>\n",
       "</div>"
      ],
      "text/plain": [
       "   article_id                                              title  \\\n",
       "0      1430.0  using pixiedust for fast, flexible, and easier...   \n",
       "1      1314.0       healthcare python streaming application demo   \n",
       "2      1429.0         use deep learning for image classification   \n",
       "3      1338.0          ml optimization using cognitive assistant   \n",
       "4      1276.0          deploy your python model as a restful api   \n",
       "\n",
       "                                      email  \n",
       "0  ef5f11f77ba020cd36e1105a00ab868bbdbf7fe7  \n",
       "1  083cbdfa93c8444beaa4c5f5e0f5f9198e4f9e0b  \n",
       "2  b96a4f2e92d8572034b1e9b28f9ac673765cd074  \n",
       "3  06485706b34a5c9bf2a0ecdac41daf7e7654ceb7  \n",
       "4  f01220c46fc92c6e6b161b1849de11faacd7ccb2  "
      ]
     },
     "execution_count": 197,
     "metadata": {},
     "output_type": "execute_result"
    }
   ],
   "source": [
    "df.head()"
   ]
  },
  {
   "cell_type": "code",
   "execution_count": 198,
   "metadata": {},
   "outputs": [],
   "source": [
    "df[\"article_id\"] = df.article_id.astype('str')"
   ]
  },
  {
   "cell_type": "code",
   "execution_count": 199,
   "metadata": {},
   "outputs": [
    {
     "data": {
      "text/plain": [
       "article_id    object\n",
       "title         object\n",
       "email         object\n",
       "dtype: object"
      ]
     },
     "execution_count": 199,
     "metadata": {},
     "output_type": "execute_result"
    }
   ],
   "source": [
    "df.dtypes"
   ]
  },
  {
   "cell_type": "code",
   "execution_count": 200,
   "metadata": {
    "tags": []
   },
   "outputs": [
    {
     "data": {
      "text/html": [
       "<div>\n",
       "<style scoped>\n",
       "    .dataframe tbody tr th:only-of-type {\n",
       "        vertical-align: middle;\n",
       "    }\n",
       "\n",
       "    .dataframe tbody tr th {\n",
       "        vertical-align: top;\n",
       "    }\n",
       "\n",
       "    .dataframe thead th {\n",
       "        text-align: right;\n",
       "    }\n",
       "</style>\n",
       "<table border=\"1\" class=\"dataframe\">\n",
       "  <thead>\n",
       "    <tr style=\"text-align: right;\">\n",
       "      <th></th>\n",
       "      <th>doc_body</th>\n",
       "      <th>doc_description</th>\n",
       "      <th>doc_full_name</th>\n",
       "      <th>doc_status</th>\n",
       "      <th>article_id</th>\n",
       "    </tr>\n",
       "  </thead>\n",
       "  <tbody>\n",
       "    <tr>\n",
       "      <th>0</th>\n",
       "      <td>Skip navigation Sign in SearchLoading...\\r\\n\\r...</td>\n",
       "      <td>Detect bad readings in real time using Python ...</td>\n",
       "      <td>Detect Malfunctioning IoT Sensors with Streami...</td>\n",
       "      <td>Live</td>\n",
       "      <td>0</td>\n",
       "    </tr>\n",
       "    <tr>\n",
       "      <th>1</th>\n",
       "      <td>No Free Hunch Navigation * kaggle.com\\r\\n\\r\\n ...</td>\n",
       "      <td>See the forest, see the trees. Here lies the c...</td>\n",
       "      <td>Communicating data science: A guide to present...</td>\n",
       "      <td>Live</td>\n",
       "      <td>1</td>\n",
       "    </tr>\n",
       "    <tr>\n",
       "      <th>2</th>\n",
       "      <td>☰ * Login\\r\\n * Sign Up\\r\\n\\r\\n * Learning Pat...</td>\n",
       "      <td>Here’s this week’s news in Data Science and Bi...</td>\n",
       "      <td>This Week in Data Science (April 18, 2017)</td>\n",
       "      <td>Live</td>\n",
       "      <td>2</td>\n",
       "    </tr>\n",
       "    <tr>\n",
       "      <th>3</th>\n",
       "      <td>DATALAYER: HIGH THROUGHPUT, LOW LATENCY AT SCA...</td>\n",
       "      <td>Learn how distributed DBs solve the problem of...</td>\n",
       "      <td>DataLayer Conference: Boost the performance of...</td>\n",
       "      <td>Live</td>\n",
       "      <td>3</td>\n",
       "    </tr>\n",
       "    <tr>\n",
       "      <th>4</th>\n",
       "      <td>Skip navigation Sign in SearchLoading...\\r\\n\\r...</td>\n",
       "      <td>This video demonstrates the power of IBM DataS...</td>\n",
       "      <td>Analyze NY Restaurant data using Spark in DSX</td>\n",
       "      <td>Live</td>\n",
       "      <td>4</td>\n",
       "    </tr>\n",
       "  </tbody>\n",
       "</table>\n",
       "</div>"
      ],
      "text/plain": [
       "                                            doc_body  \\\n",
       "0  Skip navigation Sign in SearchLoading...\\r\\n\\r...   \n",
       "1  No Free Hunch Navigation * kaggle.com\\r\\n\\r\\n ...   \n",
       "2  ☰ * Login\\r\\n * Sign Up\\r\\n\\r\\n * Learning Pat...   \n",
       "3  DATALAYER: HIGH THROUGHPUT, LOW LATENCY AT SCA...   \n",
       "4  Skip navigation Sign in SearchLoading...\\r\\n\\r...   \n",
       "\n",
       "                                     doc_description  \\\n",
       "0  Detect bad readings in real time using Python ...   \n",
       "1  See the forest, see the trees. Here lies the c...   \n",
       "2  Here’s this week’s news in Data Science and Bi...   \n",
       "3  Learn how distributed DBs solve the problem of...   \n",
       "4  This video demonstrates the power of IBM DataS...   \n",
       "\n",
       "                                       doc_full_name doc_status  article_id  \n",
       "0  Detect Malfunctioning IoT Sensors with Streami...       Live           0  \n",
       "1  Communicating data science: A guide to present...       Live           1  \n",
       "2         This Week in Data Science (April 18, 2017)       Live           2  \n",
       "3  DataLayer Conference: Boost the performance of...       Live           3  \n",
       "4      Analyze NY Restaurant data using Spark in DSX       Live           4  "
      ]
     },
     "execution_count": 200,
     "metadata": {},
     "output_type": "execute_result"
    }
   ],
   "source": [
    "# Show df_content to get an idea of the data\n",
    "df_content.head()"
   ]
  },
  {
   "cell_type": "markdown",
   "metadata": {},
   "source": [
    "### <a class=\"anchor\" id=\"Exploratory-Data-Analysis\">Part I : Exploratory Data Analysis</a>\n",
    "\n",
    "`1.` Distribution of how many articles a user interacts with in the dataset.  "
   ]
  },
  {
   "cell_type": "code",
   "execution_count": 201,
   "metadata": {
    "tags": []
   },
   "outputs": [
    {
     "data": {
      "text/plain": [
       "2b6c0f514c2f2b04ad3c4583407dccd0810469ee    364\n",
       "77959baaa9895a7e2bdc9297f8b27c1b6f2cb52a    363\n",
       "2f5c7feae533ce046f2cb16fb3a29fe00528ed66    170\n",
       "a37adec71b667b297ed2440a9ff7dad427c7ac85    169\n",
       "8510a5010a5d4c89f5b07baac6de80cd12cfaf93    160\n",
       "Name: email, dtype: int64"
      ]
     },
     "execution_count": 201,
     "metadata": {},
     "output_type": "execute_result"
    }
   ],
   "source": [
    "df.email.value_counts().head()"
   ]
  },
  {
   "cell_type": "code",
   "execution_count": 202,
   "metadata": {},
   "outputs": [
    {
     "data": {
      "text/plain": [
       "f5035acf16af3e79700393838fa1023ad38da668    1\n",
       "81335c2e5917100a5cbdcc2bc0285fed6d685f6d    1\n",
       "98d4864a24bc8f9915c8c8b5ebd3aa1eaa71cbaf    1\n",
       "c87e297a1a99ae042be2015ff9056cf13195eefd    1\n",
       "1f18e8aaccd6c8720180c3fe264c8aef5b00697f    1\n",
       "Name: email, dtype: int64"
      ]
     },
     "execution_count": 202,
     "metadata": {},
     "output_type": "execute_result"
    }
   ],
   "source": [
    "df.email.value_counts().tail()"
   ]
  },
  {
   "cell_type": "code",
   "execution_count": 203,
   "metadata": {
    "tags": []
   },
   "outputs": [
    {
     "data": {
      "image/png": "[encoded data removed]",
      "text/plain": [
       "<Figure size 432x288 with 1 Axes>"
      ]
     },
     "metadata": {
      "needs_background": "light"
     },
     "output_type": "display_data"
    }
   ],
   "source": [
    "plt.hist(df.email.value_counts().values);"
   ]
  },
  {
   "cell_type": "code",
   "execution_count": 204,
   "metadata": {},
   "outputs": [
    {
     "data": {
      "text/plain": [
       "3.0"
      ]
     },
     "execution_count": 204,
     "metadata": {},
     "output_type": "execute_result"
    }
   ],
   "source": [
    "# median number of user article interactions\n",
    "np.median(df.email.value_counts().values)"
   ]
  },
  {
   "cell_type": "code",
   "execution_count": 205,
   "metadata": {},
   "outputs": [
    {
     "data": {
      "text/plain": [
       "364"
      ]
     },
     "execution_count": 205,
     "metadata": {},
     "output_type": "execute_result"
    }
   ],
   "source": [
    "# The maximum number of user-article interactions by any one user\n",
    "df.email.value_counts().max()"
   ]
  },
  {
   "cell_type": "markdown",
   "metadata": {},
   "source": [
    "`2.` Explore and remove duplicate articles from the **df_content** dataframe.  "
   ]
  },
  {
   "cell_type": "code",
   "execution_count": 206,
   "metadata": {},
   "outputs": [
    {
     "data": {
      "text/plain": [
       "221     2\n",
       "232     2\n",
       "50      2\n",
       "398     2\n",
       "577     2\n",
       "       ..\n",
       "357     1\n",
       "358     1\n",
       "359     1\n",
       "360     1\n",
       "1050    1\n",
       "Name: article_id, Length: 1051, dtype: int64"
      ]
     },
     "execution_count": 206,
     "metadata": {},
     "output_type": "execute_result"
    }
   ],
   "source": [
    "df_content.article_id.value_counts()"
   ]
  },
  {
   "cell_type": "code",
   "execution_count": 207,
   "metadata": {
    "tags": []
   },
   "outputs": [],
   "source": [
    "# Remove any rows that have the same article_id - only keep the first\n",
    "df_content.drop_duplicates(subset=['article_id'], inplace=True)"
   ]
  },
  {
   "cell_type": "markdown",
   "metadata": {},
   "source": [
    "`3.` Use the cells below to find:\n",
    "\n",
    "**a.** The number of unique articles that have an interaction with a user.  \n",
    "**b.** The number of unique articles in the dataset (whether they have any interactions or not).<br>\n",
    "**c.** The number of unique users in the dataset. (excluding null values)<br> \n",
    "**d.** The number of user-article interactions in the dataset."
   ]
  },
  {
   "cell_type": "code",
   "execution_count": 208,
   "metadata": {},
   "outputs": [
    {
     "data": {
      "text/plain": [
       "714"
      ]
     },
     "execution_count": 208,
     "metadata": {},
     "output_type": "execute_result"
    }
   ],
   "source": [
    "# The number of unique articles that have an interaction with a user.\n",
    "df.article_id.nunique()"
   ]
  },
  {
   "cell_type": "code",
   "execution_count": 209,
   "metadata": {},
   "outputs": [
    {
     "data": {
      "text/plain": [
       "1051"
      ]
     },
     "execution_count": 209,
     "metadata": {},
     "output_type": "execute_result"
    }
   ],
   "source": [
    "# The number of unique articles on the IBM platform\n",
    "df_content.doc_full_name.nunique()"
   ]
  },
  {
   "cell_type": "code",
   "execution_count": 210,
   "metadata": {},
   "outputs": [
    {
     "data": {
      "text/plain": [
       "5148"
      ]
     },
     "execution_count": 210,
     "metadata": {},
     "output_type": "execute_result"
    }
   ],
   "source": [
    "# The number of unique users\n",
    "df.email.nunique()"
   ]
  },
  {
   "cell_type": "code",
   "execution_count": 211,
   "metadata": {},
   "outputs": [
    {
     "data": {
      "text/plain": [
       "45993"
      ]
     },
     "execution_count": 211,
     "metadata": {},
     "output_type": "execute_result"
    }
   ],
   "source": [
    "# The number of user-article interactions\n",
    "df.shape[0]"
   ]
  },
  {
   "cell_type": "markdown",
   "metadata": {},
   "source": [
    "`4.` Map users to a user id."
   ]
  },
  {
   "cell_type": "code",
   "execution_count": 212,
   "metadata": {},
   "outputs": [
    {
     "data": {
      "text/plain": [
       "('1429.0', 937)"
      ]
     },
     "execution_count": 212,
     "metadata": {},
     "output_type": "execute_result"
    }
   ],
   "source": [
    "# The most viewed article in the dataset\n",
    "# How many times was this article in the dataset viewed? \n",
    "\n",
    "df.article_id.value_counts().index[0], df.article_id.value_counts()[0]"
   ]
  },
  {
   "cell_type": "code",
   "execution_count": 213,
   "metadata": {},
   "outputs": [],
   "source": [
    "def email_mapper():\n",
    "    df_copy = df.copy()\n",
    "    email_info = df_copy.email.unique()\n",
    "    email_user_id_dict = dict(zip(email_info, range(1, len(email_info) + 1)))\n",
    "    df_copy[\"user_id\"] = df_copy.email.apply(lambda x: email_user_id_dict[x])\n",
    "    df_copy.drop([\"email\"], inplace=True, axis=1)\n",
    "    return df_copy"
   ]
  },
  {
   "cell_type": "code",
   "execution_count": 214,
   "metadata": {},
   "outputs": [],
   "source": [
    "df = email_mapper()"
   ]
  },
  {
   "cell_type": "code",
   "execution_count": 215,
   "metadata": {},
   "outputs": [
    {
     "data": {
      "text/plain": [
       "(45993, 3)"
      ]
     },
     "execution_count": 215,
     "metadata": {},
     "output_type": "execute_result"
    }
   ],
   "source": [
    "df.shape"
   ]
  },
  {
   "cell_type": "code",
   "execution_count": 216,
   "metadata": {},
   "outputs": [
    {
     "data": {
      "text/html": [
       "<div>\n",
       "<style scoped>\n",
       "    .dataframe tbody tr th:only-of-type {\n",
       "        vertical-align: middle;\n",
       "    }\n",
       "\n",
       "    .dataframe tbody tr th {\n",
       "        vertical-align: top;\n",
       "    }\n",
       "\n",
       "    .dataframe thead th {\n",
       "        text-align: right;\n",
       "    }\n",
       "</style>\n",
       "<table border=\"1\" class=\"dataframe\">\n",
       "  <thead>\n",
       "    <tr style=\"text-align: right;\">\n",
       "      <th></th>\n",
       "      <th>article_id</th>\n",
       "      <th>title</th>\n",
       "      <th>user_id</th>\n",
       "    </tr>\n",
       "  </thead>\n",
       "  <tbody>\n",
       "    <tr>\n",
       "      <th>0</th>\n",
       "      <td>1430.0</td>\n",
       "      <td>using pixiedust for fast, flexible, and easier...</td>\n",
       "      <td>1</td>\n",
       "    </tr>\n",
       "    <tr>\n",
       "      <th>1</th>\n",
       "      <td>1314.0</td>\n",
       "      <td>healthcare python streaming application demo</td>\n",
       "      <td>2</td>\n",
       "    </tr>\n",
       "    <tr>\n",
       "      <th>2</th>\n",
       "      <td>1429.0</td>\n",
       "      <td>use deep learning for image classification</td>\n",
       "      <td>3</td>\n",
       "    </tr>\n",
       "    <tr>\n",
       "      <th>3</th>\n",
       "      <td>1338.0</td>\n",
       "      <td>ml optimization using cognitive assistant</td>\n",
       "      <td>4</td>\n",
       "    </tr>\n",
       "    <tr>\n",
       "      <th>4</th>\n",
       "      <td>1276.0</td>\n",
       "      <td>deploy your python model as a restful api</td>\n",
       "      <td>5</td>\n",
       "    </tr>\n",
       "  </tbody>\n",
       "</table>\n",
       "</div>"
      ],
      "text/plain": [
       "  article_id                                              title  user_id\n",
       "0     1430.0  using pixiedust for fast, flexible, and easier...        1\n",
       "1     1314.0       healthcare python streaming application demo        2\n",
       "2     1429.0         use deep learning for image classification        3\n",
       "3     1338.0          ml optimization using cognitive assistant        4\n",
       "4     1276.0          deploy your python model as a restful api        5"
      ]
     },
     "execution_count": 216,
     "metadata": {},
     "output_type": "execute_result"
    }
   ],
   "source": [
    "df.head()"
   ]
  },
  {
   "cell_type": "code",
   "execution_count": 217,
   "metadata": {},
   "outputs": [
    {
     "data": {
      "text/html": [
       "<div>\n",
       "<style scoped>\n",
       "    .dataframe tbody tr th:only-of-type {\n",
       "        vertical-align: middle;\n",
       "    }\n",
       "\n",
       "    .dataframe tbody tr th {\n",
       "        vertical-align: top;\n",
       "    }\n",
       "\n",
       "    .dataframe thead th {\n",
       "        text-align: right;\n",
       "    }\n",
       "</style>\n",
       "<table border=\"1\" class=\"dataframe\">\n",
       "  <thead>\n",
       "    <tr style=\"text-align: right;\">\n",
       "      <th></th>\n",
       "      <th>article_id</th>\n",
       "      <th>title</th>\n",
       "      <th>user_id</th>\n",
       "    </tr>\n",
       "  </thead>\n",
       "  <tbody>\n",
       "    <tr>\n",
       "      <th>45988</th>\n",
       "      <td>1324.0</td>\n",
       "      <td>ibm watson facebook posts for 2015</td>\n",
       "      <td>5146</td>\n",
       "    </tr>\n",
       "    <tr>\n",
       "      <th>45989</th>\n",
       "      <td>142.0</td>\n",
       "      <td>neural networks for beginners: popular types a...</td>\n",
       "      <td>5146</td>\n",
       "    </tr>\n",
       "    <tr>\n",
       "      <th>45990</th>\n",
       "      <td>233.0</td>\n",
       "      <td>bayesian nonparametric models – stats and bots</td>\n",
       "      <td>5147</td>\n",
       "    </tr>\n",
       "    <tr>\n",
       "      <th>45991</th>\n",
       "      <td>1160.0</td>\n",
       "      <td>analyze accident reports on amazon emr spark</td>\n",
       "      <td>5148</td>\n",
       "    </tr>\n",
       "    <tr>\n",
       "      <th>45992</th>\n",
       "      <td>16.0</td>\n",
       "      <td>higher-order logistic regression for large dat...</td>\n",
       "      <td>5149</td>\n",
       "    </tr>\n",
       "  </tbody>\n",
       "</table>\n",
       "</div>"
      ],
      "text/plain": [
       "      article_id                                              title  user_id\n",
       "45988     1324.0                 ibm watson facebook posts for 2015     5146\n",
       "45989      142.0  neural networks for beginners: popular types a...     5146\n",
       "45990      233.0     bayesian nonparametric models – stats and bots     5147\n",
       "45991     1160.0       analyze accident reports on amazon emr spark     5148\n",
       "45992       16.0  higher-order logistic regression for large dat...     5149"
      ]
     },
     "execution_count": 217,
     "metadata": {},
     "output_type": "execute_result"
    }
   ],
   "source": [
    "df.tail()"
   ]
  },
  {
   "cell_type": "markdown",
   "metadata": {},
   "source": [
    "### <a class=\"anchor\" id=\"Rank\">Part II: Rank-Based Recommendations</a>\n",
    "\n",
    "We only know that a user has interacted with an article.  In these cases, the popularity of an article can really only be based on how often an article was interacted with.\n",
    "\n",
    "`1.` Return the **n** top articles ordered with most interactions as the top. "
   ]
  },
  {
   "cell_type": "code",
   "execution_count": 221,
   "metadata": {},
   "outputs": [
    {
     "data": {
      "text/plain": [
       "use deep learning for image classification                      937\n",
       "insights from new york car accident reports                     927\n",
       "visualize car data with brunel                                  671\n",
       "use xgboost, scikit-learn & ibm watson machine learning apis    643\n",
       "predicting churn with the spss random tree algorithm            627\n",
       "Name: title, dtype: int64"
      ]
     },
     "execution_count": 221,
     "metadata": {},
     "output_type": "execute_result"
    }
   ],
   "source": [
    "df.title.value_counts().sort_values(ascending=False)[:5]"
   ]
  },
  {
   "cell_type": "code",
   "execution_count": 222,
   "metadata": {
    "tags": []
   },
   "outputs": [],
   "source": [
    "def get_top_articles(n, df=df):\n",
    "    \"\"\"Returns top 'n' article titles ordered in descending order by most interactions\n",
    "\n",
    "    :param n: The number of articles to return\n",
    "    :type n: int\n",
    "    :param df: Dataframe with data on users and articles, defaults to df\n",
    "    :type df: pd.DataFrame, optional\n",
    "    :return: A list of the top 'n' article titles\n",
    "    :rtype: List[str]\n",
    "    \"\"\"\n",
    "    top_articles = df.title.value_counts().sort_values(ascending=False)\n",
    "\n",
    "    return list(top_articles.index[:n])"
   ]
  },
  {
   "cell_type": "code",
   "execution_count": 225,
   "metadata": {},
   "outputs": [
    {
     "data": {
      "text/plain": [
       "['use deep learning for image classification',\n",
       " 'insights from new york car accident reports',\n",
       " 'visualize car data with brunel',\n",
       " 'use xgboost, scikit-learn & ibm watson machine learning apis',\n",
       " 'predicting churn with the spss random tree algorithm']"
      ]
     },
     "execution_count": 225,
     "metadata": {},
     "output_type": "execute_result"
    }
   ],
   "source": [
    "get_top_articles(5, df)"
   ]
  },
  {
   "cell_type": "code",
   "execution_count": 266,
   "metadata": {},
   "outputs": [],
   "source": [
    "def get_top_article_ids(n, df=df):\n",
    "    \"\"\"Returns top 'n' article ids ordered in descending order by most interactions\n",
    "\n",
    "    :param n: The number of articles to return\n",
    "    :type n: int\n",
    "    :param df: Dataframe with data on users and articles, defaults to df\n",
    "    :type df: pd.DataFrame, optional\n",
    "    :return: A list of the top 'n' article ids\n",
    "    :rtype: List[str]\n",
    "    \"\"\"\n",
    "    top_articles = df.article_id.value_counts().sort_values(ascending=False)\n",
    "\n",
    "    return list(top_articles.index[:n])"
   ]
  },
  {
   "cell_type": "code",
   "execution_count": 229,
   "metadata": {
    "tags": []
   },
   "outputs": [
    {
     "data": {
      "text/plain": [
       "['1429.0', '1330.0', '1431.0', '1427.0', '1364.0']"
      ]
     },
     "execution_count": 229,
     "metadata": {},
     "output_type": "execute_result"
    }
   ],
   "source": [
    "get_top_article_ids(5, df)"
   ]
  },
  {
   "cell_type": "markdown",
   "metadata": {},
   "source": [
    "### <a class=\"anchor\" id=\"User-User\">Part III: User-User Based Collaborative Filtering</a>\n",
    "\n",
    "\n",
    "`1.` Reformat the **df** dataframe to be shaped with users as the rows and articles as the columns.  \n",
    "\n",
    "* Each **user** appears in each **row** only once.\n",
    "* Each **article** appears in each **column** only once.  \n",
    "\n",
    "\n",
    "Any interaction between a user and article is coded as 1; no interaction is coded as 0."
   ]
  },
  {
   "cell_type": "code",
   "execution_count": 230,
   "metadata": {
    "tags": []
   },
   "outputs": [],
   "source": [
    "# create the user-article matrix with 1's and 0's\n",
    "\n",
    "def create_user_item_matrix(df=df):\n",
    "    \"\"\"Returns a dataframe with user ids as rows and articles ids as columns.\n",
    "    Each cell may be 1 (interaction) or 0 (no interaction).\n",
    "\n",
    "    :param df: Dataframe with data on users and articles, defaults to df\n",
    "    :type df: pd.DataFrame, optional\n",
    "    :return: Dataframe with user-article interactions\n",
    "    :rtype: pd.DataFrame\n",
    "    \"\"\"\n",
    "    num_users = df.iloc[:, 0].nunique()\n",
    "    num_items = df.iloc[:, 1].nunique()\n",
    "    users_keys = df.iloc[:, 0].unique()\n",
    "    items_keys = df.iloc[:, 1].unique()\n",
    "\n",
    "    user_item_mat = np.full((num_users, num_items), fill_value=0)\n",
    "\n",
    "    user_id_lookup = dict(zip(users_keys, range(num_users)))\n",
    "    item_id_lookup = dict(zip(items_keys, range(num_items)))\n",
    "\n",
    "    for idx, row in df.iterrows():\n",
    "        user_item_mat[user_id_lookup[row[0]], item_id_lookup[row[1]]] = 1\n",
    "\n",
    "    user_item_df = pd.DataFrame(\n",
    "        data=user_item_mat, index=users_keys, columns=items_keys\n",
    "    )\n",
    "\n",
    "    return user_item_df \n",
    "\n",
    "df = df[[\"user_id\", \"article_id\", \"title\"]]\n",
    "user_item = create_user_item_matrix(df)"
   ]
  },
  {
   "cell_type": "code",
   "execution_count": 231,
   "metadata": {
    "tags": []
   },
   "outputs": [
    {
     "data": {
      "text/plain": [
       "(5149, 714)"
      ]
     },
     "execution_count": 231,
     "metadata": {},
     "output_type": "execute_result"
    }
   ],
   "source": [
    "user_item.shape"
   ]
  },
  {
   "cell_type": "markdown",
   "metadata": {},
   "source": [
    "`2.` Given a user_id, find the most similar users - not including himself - ordered from the most similar users to the least similar users. Similarity is computed as the dot product of two users.\n"
   ]
  },
  {
   "cell_type": "code",
   "execution_count": 232,
   "metadata": {
    "tags": []
   },
   "outputs": [],
   "source": [
    "def _get_similar_users_ranked(user_id, user_item=user_item):\n",
    "    \"\"\"Helper function that finds users most similar to user_id and orders them\n",
    "    from hight to low on similarity\n",
    "\n",
    "    :param user_id: user_id\n",
    "    :type user_id: int\n",
    "    :param user_item: A dataframe with users as rows and articles as columns; each cell\n",
    "    is a 1 (interaction) or 0 (no interaction), defaults to user_item\n",
    "    :type user_item: pd.DataFrame, optional\n",
    "    :return: Tuple of similarity scores and corresponding rank ordered indices of \n",
    "    scores from high to low\n",
    "    :rtype: List[np.ndarray, np.ndarray]\n",
    "    \"\"\"\n",
    "    similarity_scores_user_id = np.dot(\n",
    "        user_item.loc[user_id, :], np.transpose(user_item)\n",
    "    )\n",
    "    ranked_users_idx = np.argsort(similarity_scores_user_id)[::-1]\n",
    "    delete_self_idx = np.where(user_item.index == user_id)[0][0]\n",
    "    ranked_users_idx = np.delete(\n",
    "        ranked_users_idx, np.where(ranked_users_idx == delete_self_idx)\n",
    "    )\n",
    "\n",
    "    return similarity_scores_user_id, ranked_users_idx\n",
    "\n",
    "\n",
    "def find_similar_users(user_id, user_item=user_item):\n",
    "    \"\"\"Finds the users most similar to a given user.\n",
    "\n",
    "    :param user_id: user_id\n",
    "    :type user_id: int\n",
    "    :param user_item: A dataframe with users as rows and articles as columns; each cell\n",
    "    is a 1 (interaction) or 0 (no interaction), defaults to user_item\n",
    "    :type user_item: pd.DataFrame, optional\n",
    "    :return: List of article ids of most similar users ordered by similarity\n",
    "    :rtype: List[int]\n",
    "    \"\"\"\n",
    "    _, ranked_users_idx = _get_similar_users_ranked(user_id, user_item)\n",
    "    most_similar_users = user_item.index[ranked_users_idx]\n",
    "\n",
    "    return most_similar_users"
   ]
  },
  {
   "cell_type": "code",
   "execution_count": 235,
   "metadata": {
    "tags": []
   },
   "outputs": [
    {
     "name": "stdout",
     "output_type": "stream",
     "text": [
      "The 10 most similar users to user 1 are: Int64Index([3933, 23, 3782, 203, 4459, 131, 3870, 46, 4201, 5041], dtype='int64')\n",
      "The 5 most similar users to user 3933 are: Int64Index([1, 23, 3782, 4459, 203], dtype='int64')\n",
      "The 3 most similar users to user 46 are: Int64Index([4201, 23, 3782], dtype='int64')\n"
     ]
    }
   ],
   "source": [
    "print(\"The 10 most similar users to user 1 are: {}\".format(find_similar_users(1, user_item)[:10]))\n",
    "print(\"The 5 most similar users to user 3933 are: {}\".format(find_similar_users(3933, user_item)[:5]))\n",
    "print(\"The 3 most similar users to user 46 are: {}\".format(find_similar_users(46, user_item)[:3]))"
   ]
  },
  {
   "cell_type": "markdown",
   "metadata": {},
   "source": [
    "`3.` The functions below are used to return the articles you would recommend to each user. "
   ]
  },
  {
   "cell_type": "code",
   "execution_count": 246,
   "metadata": {},
   "outputs": [],
   "source": [
    "def get_article_names(article_ids, df=df):\n",
    "    \"\"\"Get list of article names associated with list of article ids\n",
    "\n",
    "    :param article_ids: List of article ids\n",
    "    :type article_ids: List[str]\n",
    "    :param df: Dataframe with data on users and articles, defaults to df\n",
    "    :type df: pd.DataFrame, optional\n",
    "    :return: List of article names associated with article ids\n",
    "    :rtype: List[str]\n",
    "    \"\"\"\n",
    "    df_copy = df.copy()\n",
    "    df_copy.set_index([\"article_id\"], inplace=True)\n",
    "    article_names = df_copy.title[article_ids].unique().tolist()\n",
    "\n",
    "    return article_names"
   ]
  },
  {
   "cell_type": "code",
   "execution_count": 247,
   "metadata": {},
   "outputs": [
    {
     "data": {
      "text/plain": [
       "['using pixiedust for fast, flexible, and easier data analysis and experimentation',\n",
       " 'healthcare python streaming application demo']"
      ]
     },
     "execution_count": 247,
     "metadata": {},
     "output_type": "execute_result"
    }
   ],
   "source": [
    "article_ids = ['1430.0', '1314.0']\n",
    "get_article_names(article_ids)"
   ]
  },
  {
   "cell_type": "code",
   "execution_count": 248,
   "metadata": {},
   "outputs": [],
   "source": [
    "def get_user_articles(user_id, user_item=user_item):\n",
    "    \"\"\"Finds the ids and associated titles of articles that a given user has viewed.\n",
    "\n",
    "    :param user_id: user id\n",
    "    :type user_id: int\n",
    "    :param user_item: A dataframe with users as rows and articles as columns; each cell\n",
    "    is a 1 (interaction) or 0 (no interaction), defaults to user_item\n",
    "    :type user_item: pd.DataFrame, optional\n",
    "    :return: Tuple of lists of article ids and corresponding article titles\n",
    "    :rtype: Tuple[List[str], List[str]]\n",
    "    \"\"\"\n",
    "    df1 = df.copy()\n",
    "    df1.set_index([\"user_id\"], inplace=True)\n",
    "    article_ids = df1.article_id[user_id]\n",
    "    article_names = df1.title[user_id]\n",
    "\n",
    "    # If a user has interacted with only one article, then the article_ids variable\n",
    "    # will be a string value not a series.\n",
    "    if not isinstance(article_ids, (str)):\n",
    "        article_ids = list(set(article_ids))\n",
    "        article_names = list(set(article_names))\n",
    "    else:\n",
    "        article_ids = [article_ids]\n",
    "        article_names = [article_names]\n",
    "\n",
    "    return article_ids, article_names"
   ]
  },
  {
   "cell_type": "code",
   "execution_count": 249,
   "metadata": {},
   "outputs": [],
   "source": [
    "ai, an = get_user_articles(1, user_item)"
   ]
  },
  {
   "cell_type": "code",
   "execution_count": 250,
   "metadata": {},
   "outputs": [
    {
     "data": {
      "text/plain": [
       "(['1439.0', '109.0', '1368.0', '585.0', '981.0'],\n",
       " ['shiny 0.13.0',\n",
       "  'tidyverse practice: mapping large european cities',\n",
       "  'welcome to pixiedust',\n",
       "  'use xgboost, scikit-learn & ibm watson machine learning apis',\n",
       "  'using pixiedust for fast, flexible, and easier data analysis and experimentation'])"
      ]
     },
     "execution_count": 250,
     "metadata": {},
     "output_type": "execute_result"
    }
   ],
   "source": [
    "ai[:5], an[:5]"
   ]
  },
  {
   "cell_type": "code",
   "execution_count": 251,
   "metadata": {
    "tags": []
   },
   "outputs": [],
   "source": [
    "def user_user_recs(user_id, user_item=user_item, m=10):\n",
    "    \"\"\"Find m recommendations for a given user. Starting with the user most similar to user_id,\n",
    "    finds articles not seen by user_id until m recommendations are found. If users are\n",
    "    equally close then a user is chosen arbitrarily. If a given user returns fewer than m\n",
    "    recommendations, then the remaining ones are added arbitrarily.\n",
    "\n",
    "    :param user_id: user_id\n",
    "    :type user_id: int\n",
    "    :param user_item: A dataframe with users as rows and articles as columns; each cell\n",
    "    is a 1 (interaction) or 0 (no interaction), defaults to user_item\n",
    "    :type user_item: pd.DataFrame, optional\n",
    "    :param m: Number of recommendations desired, defaults to 10\n",
    "    :type m: int, optional\n",
    "    :return: List of m recommendations - article ids - for the user\n",
    "    :rtype: List[int]\n",
    "    \"\"\"\n",
    "    recs_set = set()\n",
    "\n",
    "    articles_seen_user_id, _ = get_user_articles(user_id, user_item)\n",
    "    similar_users = find_similar_users(user_id, user_item)\n",
    "\n",
    "    for user in similar_users:\n",
    "        article_ids, _ = get_user_articles(user, user_item)\n",
    "        article_ids = np.setdiff1d(article_ids, articles_seen_user_id)\n",
    "        recs_set.update(article_ids)\n",
    "        recs = list(recs_set)\n",
    "        if len(recs_set) >= m:\n",
    "            recs = recs[:m]\n",
    "            break\n",
    "\n",
    "    return recs"
   ]
  },
  {
   "cell_type": "code",
   "execution_count": 256,
   "metadata": {},
   "outputs": [
    {
     "data": {
      "text/plain": [
       "['tensorflow quick tips',\n",
       " 'putting a human face on machine learning',\n",
       " 'building custom machine learning algorithms with apache systemml',\n",
       " 'classify tumors with machine learning',\n",
       " 'model bike sharing data with spss',\n",
       " 'overlapping co-cluster recommendation algorithm (ocular)',\n",
       " 'using deep learning with keras to predict customer churn',\n",
       " 'visualize the 1854 london cholera outbreak',\n",
       " 'apache spark lab, part 3: machine learning',\n",
       " 'modeling energy usage in new york city']"
      ]
     },
     "execution_count": 256,
     "metadata": {},
     "output_type": "execute_result"
    }
   ],
   "source": [
    "get_article_names(user_user_recs(20, user_item, m=10), df)"
   ]
  },
  {
   "cell_type": "markdown",
   "metadata": {},
   "source": [
    "`4.` Improve the consistency of the **user_user_recs** function from above.  \n",
    "\n",
    "* Instead of arbitrarily choosing when we obtain users who are all the same closeness to a given user - choose the users that have the most total article interactions before choosing those with fewer article interactions.\n",
    "\n",
    "* Instead of arbitrarily choosing articles from the user where the number of recommended articles starts below m and ends exceeding m, choose articles with the articles with the most total interactions before choosing those with fewer total interactions. This ranking is obtained from the **get_top_sorted_users** function."
   ]
  },
  {
   "cell_type": "code",
   "execution_count": 260,
   "metadata": {},
   "outputs": [],
   "source": [
    "def get_top_sorted_users(user_id, user_item=user_item, df=df):\n",
    "    \"\"\"Calculates the similarity of users (neighbors) to the requested user along with the\n",
    "    number of articles viewed. The neighbors are sorted in descending order of similarity and\n",
    "    number of articles viewed such that closest neighbors appear at the top. In cases where \n",
    "    neighbors are equally close, those with more articles viewed appear first.\n",
    "\n",
    "    :param user_id: user id\n",
    "    :type user_id: int\n",
    "    :param df: Dataframe with data on users and articles, defaults to df\n",
    "    :type df: pd.DataFrame, optional\n",
    "    :param user_item: A dataframe with users as rows and articles as columns; each cell\n",
    "    is a 1 (interaction) or 0 (no interaction), defaults to user_item\n",
    "    :type user_item: pd.DataFrame, optional\n",
    "    :return: A dataframe with neighbors of user_id sorted first by similarity and then by the \n",
    "    number of articles viewed by the neighbor in descending order\n",
    "    :rtype: pd.DataFrame\n",
    "    \"\"\"\n",
    "    similarity_scores_user_id, ranked_users_idx = _get_similar_users_ranked(\n",
    "        user_id, user_item\n",
    "    )\n",
    "    ranked_similarities = similarity_scores_user_id[ranked_users_idx]\n",
    "    ranked_users = user_item.index[ranked_users_idx]\n",
    "    user_interactions = df.user_id.value_counts()\n",
    "    user_interactions.drop(labels=[user_id], inplace=True)\n",
    "\n",
    "    cols = [\"neighbor_id\", \"similarity\", \"num_interactions\"]\n",
    "    data = [ranked_users, ranked_similarities, user_interactions]\n",
    "    neighbors_df = pd.DataFrame.from_dict(dict(zip(cols, data)))\n",
    "    neighbors_df.sort_values(\n",
    "        by=[\"similarity\", \"num_interactions\"], ascending=[False, False], inplace=True\n",
    "    )\n",
    "\n",
    "    return neighbors_df\n"
   ]
  },
  {
   "cell_type": "code",
   "execution_count": 261,
   "metadata": {
    "tags": []
   },
   "outputs": [],
   "source": [
    "def user_user_recs_part2(user_id, user_item=user_item, df=df, m=10):\n",
    "    \"\"\"Find m recommendations for a given user. Starting with the closest user to user_id,\n",
    "    finds articles not seen by user_id until m recommendations are found. If users are\n",
    "    equally close then users are chosen in descending order of the number of interactions. \n",
    "    Articles are added based on the descending order of total article interactions.\n",
    "\n",
    "    :param user_id: user_id\n",
    "    :type user_id: int\n",
    "    :param user_item: A dataframe with users as rows and articles as columns; each cell\n",
    "    is a 1 (interaction) or 0 (no interaction), defaults to user_item\n",
    "    :type user_item: pd.DataFrame, optional\n",
    "    :param m: Number of recommendations desired, defaults to 10\n",
    "    :type m: int, optional\n",
    "    :return: Tuple with lists of article ids and corresponding article titles - the lists are\n",
    "    of size m\n",
    "    :rtype: Tuple[List[str], List[str]]\n",
    "    \"\"\"\n",
    "    recs_set = set()\n",
    "\n",
    "    articles_seen_user_id, _ = get_user_articles(user_id, user_item)\n",
    "    similar_users = get_top_sorted_users(user_id, user_item, df)[\"neighbor_id\"].values\n",
    "\n",
    "    article_interactions = df.article_id.value_counts()\n",
    "\n",
    "    for user in similar_users:\n",
    "        article_ids, _ = get_user_articles(user, user_item)\n",
    "        article_ids = np.setdiff1d(article_ids, articles_seen_user_id)\n",
    "        user_interactions = article_interactions[article_ids]\n",
    "        user_interactions_ranked = user_interactions.sort_values(ascending=False)\n",
    "\n",
    "        recs_set.update(user_interactions_ranked)\n",
    "        recs_ids = list(recs_set)\n",
    "        if len(recs_set) >= m:\n",
    "            recs_ids = recs_ids[:m]\n",
    "            break\n",
    "    recs_names = get_article_names(recs_ids, df)\n",
    "\n",
    "    return recs_ids, recs_names"
   ]
  },
  {
   "cell_type": "code",
   "execution_count": 264,
   "metadata": {
    "tags": []
   },
   "outputs": [
    {
     "name": "stdout",
     "output_type": "stream",
     "text": [
      "The top 10 recommendations for user 20 are the following article ids:\n",
      "[512, 643, 135, 14, 15, 18, 20, 279, 24, 28]\n",
      "\n",
      "The top 10 recommendations for user 20 are the following article names:\n",
      "['tensorflow quick tips', 'ml optimization using cognitive assistant', 'use xgboost, scikit-learn & ibm watson machine learning apis', 'apache spark lab, part 1: basic concepts', 'getting started with python', 'healthcare python streaming application demo', 'visualize data with the matplotlib library', 'dsx: hybrid mode']\n"
     ]
    }
   ],
   "source": [
    "# Quick spot check - don't change this code - just use it to test your functions\n",
    "rec_ids, rec_names = user_user_recs_part2(20)\n",
    "print(\"The top 10 recommendations for user 20 are the following article ids:\")\n",
    "print(rec_ids)\n",
    "print()\n",
    "print(\"The top 10 recommendations for user 20 are the following article names:\")\n",
    "print(rec_names)"
   ]
  },
  {
   "cell_type": "markdown",
   "metadata": {},
   "source": [
    "`5.` The top 10 recommended articles one would provide for the a new user."
   ]
  },
  {
   "cell_type": "code",
   "execution_count": 269,
   "metadata": {
    "tags": []
   },
   "outputs": [
    {
     "data": {
      "text/plain": [
       "['use deep learning for image classification',\n",
       " 'insights from new york car accident reports',\n",
       " 'visualize car data with brunel',\n",
       " 'use xgboost, scikit-learn & ibm watson machine learning apis',\n",
       " 'predicting churn with the spss random tree algorithm',\n",
       " 'healthcare python streaming application demo',\n",
       " 'finding optimal locations of new store using decision optimization',\n",
       " 'apache spark lab, part 1: basic concepts',\n",
       " 'analyze energy consumption in buildings',\n",
       " 'gosales transactions for logistic regression model']"
      ]
     },
     "execution_count": 269,
     "metadata": {},
     "output_type": "execute_result"
    }
   ],
   "source": [
    "new_user = '0.0'\n",
    "new_user_recs = get_article_names(get_top_article_ids(10))\n",
    "new_user_recs"
   ]
  },
  {
   "cell_type": "markdown",
   "metadata": {},
   "source": [
    "### <a class=\"anchor\" id=\"Matrix-Fact\">Part IV: Matrix Factorization</a>\n",
    "\n",
    "Use matrix factorization to make article recommendations to the users on the IBM Watson Studio platform."
   ]
  },
  {
   "cell_type": "markdown",
   "metadata": {},
   "source": [
    "`1.` We split our dataset into a training and test set of data and then calculate accuracy on them for different numbers of latent features\n"
   ]
  },
  {
   "cell_type": "code",
   "execution_count": 270,
   "metadata": {
    "tags": []
   },
   "outputs": [],
   "source": [
    "def create_test_and_train_user_item(df=df, train_size=40000):\n",
    "    \"\"\"Creates a matrix of users and items for the training and test data where each\n",
    "    user is a row and each article is a column. A cell with value of 1 represents an interaction\n",
    "    while 0 represents an absence of one.\n",
    "\n",
    "    :param df: Data set with , defaults to df\n",
    "    :type df: pd.DataFrame, optional\n",
    "    :param train_size: Size of the training set, defaults to 40000\n",
    "    :type train_size: int, optional\n",
    "    :return: A tuple consisting of user-item dataframes for the training and test data, the user ids\n",
    "    for the test data, and the article ids for the test data\n",
    "    :rtype: Tuple[pd.DataFrame, pd.DataFrame, np.ndarray, np.ndarray]\n",
    "    \"\"\"\n",
    "\n",
    "    df_train = df.head(train_size)\n",
    "    df_test = df.tail(df.shape[0] - train_size)\n",
    "\n",
    "    user_item_train = create_user_item_matrix(df_train)\n",
    "    user_item_test = create_user_item_matrix(df_test)\n",
    "\n",
    "    test_user_ids = df_test.user_id.unique()\n",
    "    test_article_ids = df_test.article_id.unique()\n",
    "\n",
    "    return user_item_train, user_item_test, test_user_ids, test_article_ids\n",
    "\n",
    "user_item_train, user_item_test, test_idx, test_arts = create_test_and_train_user_item(df)"
   ]
  },
  {
   "cell_type": "markdown",
   "metadata": {},
   "source": [
    "`2.` We use the **user_item_train** dataset from above to find **U**, **S**, and **V** transpose using SVD. Then we find the subset of rows in the **user_item_test** dataset that we can predict using this matrix decomposition with different numbers of latent features in order to see how many features it makes sense to keep based on the accuracy on the test data. "
   ]
  },
  {
   "cell_type": "code",
   "execution_count": 271,
   "metadata": {
    "tags": []
   },
   "outputs": [],
   "source": [
    "def evaluate_accuracy(num_latent_features, df, train_size=40000):\n",
    "    \"\"\"Estimate the mean error in the train and test sets where error is the difference \n",
    "    between the actual value and the predicted value for a given number of latent features. \n",
    "    Calculate accuracy for train and test set\n",
    "\n",
    "    :param num_latent_features: A vector with a range of values for the number of features to \n",
    "    use to generate the predictions matrix. The maximum is the number of columns in the user\n",
    "    item matrix\n",
    "    :type num_latent_features: np.ndarray\n",
    "    :param train_size: Size of the training set, defaults to 40000\n",
    "    :type train_size: int, optional\n",
    "    :return: a tuple with list of accuracy values for the train set and the test set\n",
    "    :rtype: Tuple[List[float], List[float]]\n",
    "    \"\"\"\n",
    "\n",
    "    (\n",
    "        user_item_train,\n",
    "        user_item_test,\n",
    "        test_user_ids,\n",
    "        test_article_ids,\n",
    "    ) = create_test_and_train_user_item(df, train_size=train_size)\n",
    "\n",
    "    train_user_ids = user_item_train.index\n",
    "    train_article_ids = user_item_train.columns\n",
    "\n",
    "    users_in_common = train_user_ids.intersection(test_user_ids)\n",
    "    articles_in_common = train_article_ids.intersection(test_article_ids)\n",
    "\n",
    "    test_users_idx = np.where(train_user_ids.isin(users_in_common))[0]\n",
    "    test_articles_idx = np.where(train_article_ids.isin(articles_in_common))[0]\n",
    "\n",
    "    errors_train_k, errors_test_k = [], []\n",
    "    u, s, vt = np.linalg.svd(user_item_train)\n",
    "\n",
    "    for k in num_latent_features:\n",
    "        s_train, u_train, vt_train = (\n",
    "            np.diag(s[:k]),\n",
    "            u[:, :k],\n",
    "            vt[:k, :],\n",
    "        )\n",
    "\n",
    "        s_test = s_train\n",
    "        u_test = u_train[test_users_idx, :k]\n",
    "        vt_test = vt_train[:k, test_articles_idx]\n",
    "\n",
    "        user_item_train_est = np.around(np.dot(np.dot(u_train, s_train), vt_train))\n",
    "        user_item_train_act = user_item_train.values\n",
    "\n",
    "        user_item_test_est = np.around(np.dot(np.dot(u_test, s_test), vt_test))\n",
    "        user_item_test_act = user_item_test.loc[\n",
    "            users_in_common, test_article_ids\n",
    "        ].values\n",
    "\n",
    "        train_errors = np.subtract(user_item_train_act, user_item_train_est)\n",
    "        test_errors = np.subtract(user_item_test_act, user_item_test_est)\n",
    "\n",
    "        sum_errors_train = np.sum(np.abs(train_errors))\n",
    "        sum_errors_test = np.sum(np.abs(test_errors))\n",
    "\n",
    "        errors_train_k.append(sum_errors_train)\n",
    "        errors_test_k.append(sum_errors_test)\n",
    "\n",
    "    mean_errors_train_k = np.array(errors_train_k) / (\n",
    "        user_item_train_act.shape[0] * user_item_train_act.shape[1]\n",
    "    )\n",
    "    mean_errors_test_k = np.array(errors_test_k) / (\n",
    "        user_item_test_act.shape[0] * user_item_test_act.shape[1]\n",
    "    )\n",
    "\n",
    "    accuracy_train_k = 1 - mean_errors_train_k\n",
    "    accuracy_test_k = 1 - mean_errors_test_k\n",
    "\n",
    "    return accuracy_train_k, accuracy_test_k\n"
   ]
  },
  {
   "cell_type": "code",
   "execution_count": 272,
   "metadata": {
    "tags": []
   },
   "outputs": [],
   "source": [
    "num_latent_features = np.arange(10, 720, 10)\n",
    "accuracy_train_k, accuracy_test_k = evaluate_accuracy(num_latent_features, df)"
   ]
  },
  {
   "cell_type": "code",
   "execution_count": 273,
   "metadata": {
    "tags": []
   },
   "outputs": [
    {
     "data": {
      "text/plain": [
       "Text(0.5, 1.0, 'Accuracy vs. Number of Latent Features')"
      ]
     },
     "execution_count": 273,
     "metadata": {},
     "output_type": "execute_result"
    },
    {
     "data": {
      "image/png": "[encoded data removed]",
      "text/plain": [
       "<Figure size 432x288 with 1 Axes>"
      ]
     },
     "metadata": {
      "needs_background": "light"
     },
     "output_type": "display_data"
    }
   ],
   "source": [
    "plt.plot(num_latent_features, accuracy_train_k)\n",
    "plt.plot(num_latent_features, accuracy_test_k)\n",
    "plt.xlabel(\"Number of Latent Features\")\n",
    "plt.ylabel(\"Accuracy\")\n",
    "plt.title(\"Accuracy vs. Number of Latent Features\")"
   ]
  },
  {
   "cell_type": "markdown",
   "metadata": {
    "jupyter": {
     "outputs_hidden": true
    }
   },
   "source": [
    "Test performance worsens with the addition of more latent features due to overfitting. There are only 20 users in the training set that are also present in the test set. One way to improve performance would be to have greater coverage of users in the training set. With the current data, choosing a smaller number of latent features would give better performance.\n",
    "\n",
    "The data is highly imbalanced: only 0.916% of the training data and 1.135% are classified as a 1. One may report a high accuracy simply by always predicting zero. Here we are interested in letting users discover resources and consequently, may be less concerned about false positives. Hence, recall may be a more useful metric. To address imbalance, one may try weighting the errors based on class frequency or a sampling method such as SMOTE.\n",
    "\n",
    "Rank-based recommenders are useful because they address the cold-start problem. With collaborative filtering, we can use information on interactions of users with articles to give recommendations that are more relevant. But these may suffer from problems such as lack of novelty or serendipity. As such a blended recommendation system might serve the needs of users better.\n",
    "\n",
    "One may test a blended recommendation system against the current one using A/B testing. Users may be randomly assigned to two groups with the treatment group being exposed to the new system. One could perform a statistical test for the difference in number of interactions between the two groups. Depending on business concerns, one would also have to think of practical significance even if there is a statistical significant improvement from using the blended system."
   ]
  },
  {
   "cell_type": "code",
   "execution_count": null,
   "metadata": {},
   "outputs": [],
   "source": []
  }
 ],
 "metadata": {
  "kernelspec": {
   "display_name": "Python 3 (ipykernel)",
   "language": "python",
   "name": "python3"
  },
  "language_info": {
   "codemirror_mode": {
    "name": "ipython",
    "version": 3
   },
   "file_extension": ".py",
   "mimetype": "text/x-python",
   "name": "python",
   "nbconvert_exporter": "python",
   "pygments_lexer": "ipython3",
   "version": "3.9.1"
  }
 },
 "nbformat": 4,
 "nbformat_minor": 4
}
